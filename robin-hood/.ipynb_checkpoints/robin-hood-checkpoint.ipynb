{
 "cells": [
  {
   "cell_type": "markdown",
   "metadata": {},
   "source": [
    "# Robin Hood\n",
    "## Intro\n",
    "We are in a competition to win the archery contest in Sherwood. With our bow and arrows we shoot on a target and try to hit as close as possible to the center.\n",
    "\n",
    "The center of the target is represented by the values (0, 0) on the coordinate axes.\n",
    "\n",
    "![](images/arrows.jpg)\n",
    "\n",
    "## Goals:\n",
    "* data structures: lists, sets, tuples\n",
    "* logical operators: if-elif-else\n",
    "* loop: while/for\n",
    "* minimum (optional sorting)\n",
    "\n",
    "## Description:\n",
    "In the 2-dimensional space, a point can be defined by a pair of values that correspond to the horizontal coordinate (x) and the vertical coordinate (y). The space can be divided into 4 zones (quadrants): Q1, Q2, Q3, Q4. Whose single point of union is the point (0, 0).\n",
    "\n",
    "If a point is in Q1 both its x coordinate and the y are positive. I leave a link to wikipedia to familiarize yourself with these quadrants.\n",
    "\n",
    "https://en.wikipedia.org/wiki/Cartesian_coordinate_system\n",
    "\n",
    "https://en.wikipedia.org/wiki/Euclidean_distance\n",
    "\n",
    "## Shots\n",
    "```\n",
    "points = [(4, 5), (-0, 2), (4, 7), (1, -3), (3, -2), (4, 5),\n",
    "          (3, 2), (5, 7), (-5, 7), (2, 2), (-4, 5), (0, -2),\n",
    "          (-4, 7), (-1, 3), (-3, 2), (-4, -5), (-3, 2),\n",
    "          (5, 7), (5, 7), (2, 2), (9, 9), (-8, -9)]\n",
    "```\n",
    "\n",
    "## Tasks\n",
    "1. Robin Hood is famous for hitting an arrow with another arrow. Did you get it?\n",
    "2. Calculate how many arrows have fallen in each quadrant.\n",
    "3. Find the point closest to the center. Calculate its distance to the center. \n",
    "4. If the target has a radius of 9, calculate the number of arrows that must be picked up in the forest."
   ]
  },
  {
   "cell_type": "code",
   "execution_count": 1,
   "metadata": {},
   "outputs": [],
   "source": [
    "# Variables\n",
    "\n",
    "points = [(4, 5), (-0, 2), (4, 7), (1, -3), (3, -2), (4, 5),\n",
    "          (3, 2), (5, 7), (-5, 7), (2, 2), (-4, 5), (0, -2),\n",
    "          (-4, 7), (-1, 3), (-3, 2), (-4, -5), (-3, 2),\n",
    "          (5, 7), (5, 7), (2, 2), (9, 9), (-8, -9)]"
   ]
  },
  {
   "cell_type": "code",
   "execution_count": 14,
   "metadata": {},
   "outputs": [
    {
     "name": "stdout",
     "output_type": "stream",
     "text": [
      "Arrows hitted with another arrows! {(-3, 2), (4, 5), (5, 7), (2, 2)}\n",
      "True\n"
     ]
    }
   ],
   "source": [
    "# 1. Robin Hood is famous for hitting an arrow with another arrow. Did you get it?\n",
    "points = [(4, 5), (-0, 2), (4, 7), (1, -3), (3, -2), (4, 5), (3, 2), (5, 7), (-5, 7), (2, 2), (-4, 5), (0, -2),\n",
    "          (-4, 7), (-1, 3), (-3, 2), (-4, -5), (-3, 2), (5, 7), (5, 7), (2, 2), (9, 9), (-8, -9)]\n",
    "repeated = []\n",
    "unique = []\n",
    "\n",
    "identical_coordinates = set()\n",
    "\n",
    "for point in points:\n",
    "    if point not in unique:\n",
    "        unique.append(point)\n",
    "    else:\n",
    "        repeated.append(point)\n",
    "    if point in repeated:\n",
    "        identical_coordinates.add(point)\n",
    "        \n",
    "print(\"Arrows hitted with another arrows!\", identical_coordinates)\n",
    "\n",
    "if len(identical_coordinates) > 0:\n",
    "    print(\"True\")"
   ]
  },
  {
   "cell_type": "markdown",
   "metadata": {},
   "source": [
    "**Expected output**:\n",
    "```\n",
    "True\n",
    "```"
   ]
  },
  {
   "cell_type": "code",
   "execution_count": 10,
   "metadata": {},
   "outputs": [
    {
     "name": "stdout",
     "output_type": "stream",
     "text": [
      "The arrow has fallen in axis x=0 or y=0\n",
      "The arrow has fallen in axis x=0 or y=0\n",
      "The number of arrows which have fallen in q1 is  10\n",
      "The number of arrows which have fallen in q2 is  6\n",
      "The number of arrows which have fallen in q3 is  2\n",
      "The number of arrows which have fallen in q4 is  2\n"
     ]
    }
   ],
   "source": [
    "# 2. Calculate how many arrows have fallen in each quadrant.\n",
    "q1 = 0\n",
    "q2 = 0\n",
    "q3 = 0\n",
    "q4 = 0\n",
    "\n",
    "for point in points:\n",
    "    if point[0] > 0 and point[1] > 0:\n",
    "        q1 += 1\n",
    "    elif point[0] > 0 and point[1] < 0:\n",
    "        q4 += 1\n",
    "    elif point[0] < 0 and point[1] < 0:\n",
    "        q3 += 1\n",
    "    elif point[0] < 0 and point[1] > 0:\n",
    "        q2 += 1\n",
    "    else:\n",
    "        print(\"The arrow has fallen in axis x=0 or y=0\")\n",
    "\n",
    "print(\"The number of arrows which have fallen in q1 is \", str(q1))\n",
    "print(\"The number of arrows which have fallen in q2 is \", str(q2))\n",
    "print(\"The number of arrows which have fallen in q3 is \", str(q3))\n",
    "print(\"The number of arrows which have fallen in q4 is \", str(q4))\n"
   ]
  },
  {
   "cell_type": "markdown",
   "metadata": {},
   "source": [
    "**Expected output**:\n",
    "```\n",
    "(10, 6, 2, 2)\n",
    "```"
   ]
  },
  {
   "cell_type": "code",
   "execution_count": 11,
   "metadata": {},
   "outputs": [
    {
     "name": "stdout",
     "output_type": "stream",
     "text": [
      "The closest point to the center is  (0, 2)  and its distance is  2.0\n"
     ]
    }
   ],
   "source": [
    "# 3. Find the point closest to the center. Calculate its distance to the center\n",
    "# Defining a function that calculates the distance to the center can help.\n",
    "\n",
    "import math\n",
    "\n",
    "def calculate_distance(point1, point2):\n",
    "    a = (point2[0] - point1[0])**2\n",
    "    b = (point2[1] - point1[1])**2\n",
    "    c = math.sqrt(a + b)\n",
    "    return c\n",
    "\n",
    "center = (0,0)\n",
    "closest_point = points[0]\n",
    "minimum_distance = calculate_distance(closest_point, center)\n",
    "\n",
    "\n",
    "for point in points:\n",
    "    current_distance = calculate_distance(point, center)\n",
    "    if current_distance < minimum_distance:\n",
    "        minimum_distance = current_distance\n",
    "        closest_point = point\n",
    "    \n",
    "print(\"The closest point to the center is \", closest_point, \" and its distance is \", minimum_distance)\n",
    "\n"
   ]
  },
  {
   "cell_type": "markdown",
   "metadata": {},
   "source": [
    "**Expected output**:\n",
    "```\n",
    "(0, 2)\n",
    "2.0\n",
    "```"
   ]
  },
  {
   "cell_type": "code",
   "execution_count": 25,
   "metadata": {},
   "outputs": [
    {
     "name": "stdout",
     "output_type": "stream",
     "text": [
      "The points of arrows lost in the forest are:  [(9, 9), (-8, -9)]\n",
      "The number of arrows that won't hit the target =  2\n"
     ]
    }
   ],
   "source": [
    "# 4. If the target has a radius of 9, calculate the number of arrows that \n",
    "# must be picked up in the forest.\n",
    "arrows_out_of_target = []\n",
    "\n",
    "for point in points:\n",
    "    current_distance = calculate_distance(point, center)\n",
    "    if current_distance >= 9:\n",
    "        arrows_out_of_target.append(point)\n",
    "        \n",
    "n_arrows_out_of_target = int(len(arrows_out_of_target))\n",
    "\n",
    "print(\"The points of arrows lost in the forest are: \", arrows_out_of_target)\n",
    "print(\"The number of arrows that won't hit the target = \", n_arrows_out_of_target)\n"
   ]
  },
  {
   "cell_type": "markdown",
   "metadata": {},
   "source": [
    "**Expected output**:\n",
    "```\n",
    "[(9, 9), (-8, -9)]\n",
    "2\n",
    "```"
   ]
  },
  {
   "cell_type": "code",
   "execution_count": null,
   "metadata": {},
   "outputs": [],
   "source": []
  }
 ],
 "metadata": {
  "kernelspec": {
   "display_name": "Python 3",
   "language": "python",
   "name": "python3"
  },
  "language_info": {
   "codemirror_mode": {
    "name": "ipython",
    "version": 3
   },
   "file_extension": ".py",
   "mimetype": "text/x-python",
   "name": "python",
   "nbconvert_exporter": "python",
   "pygments_lexer": "ipython3",
   "version": "3.8.3"
  }
 },
 "nbformat": 4,
 "nbformat_minor": 2
}

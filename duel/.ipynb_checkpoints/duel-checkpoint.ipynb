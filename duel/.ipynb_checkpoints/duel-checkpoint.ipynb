{
 "cells": [
  {
   "cell_type": "markdown",
   "metadata": {},
   "source": [
    "# Duel of sorcerers\n",
    "## Intro\n",
    "You are witnessing an epic battle between two powerful sorcerers: Gandalf and Saruman. Each sorcerer has 10 spells of variable power in their mind and they are going to throw them one after the other. The winner of the duel will be the one who wins more of those clashes between spells. Spells are represented as a list of 10 integers whose value equals the power of the spell.\n",
    "```\n",
    "gandalf = [10, 11, 13, 30, 22, 11, 10, 33, 22, 22]\n",
    "saruman = [23, 66, 12, 43, 12, 10, 44, 23, 12, 17]\n",
    "```\n",
    "For example:\n",
    "1. The first clash is won by Saruman: 10 against 23, wins 23\n",
    "2. The second clash wins Saruman: 11 against 66, wins 66\n",
    "3. etc.\n",
    "\n",
    "\n",
    "You will create two variables, one for each sorcerer, where the sum of clashes won will be stored. Depending on which variable is greater at the end of the duel, you will show one of the following three results on the screen:\n",
    "* Gandalf wins\n",
    "* Saruman wins\n",
    "* Tie\n",
    "\n",
    "<img src=\"images/content_lightning_bolt_big.jpg\" width=\"400\">\n",
    "\n",
    "## LINKS: \n",
    "* zip: https://www.programiz.com/python-programming/methods/built-in/zip"
   ]
  },
  {
   "cell_type": "markdown",
   "metadata": {},
   "source": [
    "## Solution"
   ]
  },
  {
   "cell_type": "code",
   "execution_count": 5,
   "metadata": {},
   "outputs": [],
   "source": [
    "# Assign spell power lists to variables\n",
    "gandalf = [10, 11, 13, 30, 22, 11, 10, 33, 22, 22]\n",
    "saruman = [23, 66, 12, 43, 12, 10, 44, 23, 12, 17]"
   ]
  },
  {
   "cell_type": "code",
   "execution_count": 6,
   "metadata": {},
   "outputs": [],
   "source": [
    "# Assign 0 to each variable that stores the victories\n",
    "spells = 0\n",
    "\n",
    "gandalf_wins = 0\n",
    "saruman_wins = 0"
   ]
  },
  {
   "cell_type": "code",
   "execution_count": 7,
   "metadata": {},
   "outputs": [
    {
     "name": "stdout",
     "output_type": "stream",
     "text": [
      "Gandalf's spell force is 10\n",
      "Saruman's spell force is 23\n",
      "Saruman power wins!\n",
      "Gandalf's spell force is 11\n",
      "Saruman's spell force is 66\n",
      "Saruman power wins!\n",
      "Gandalf's spell force is 13\n",
      "Saruman's spell force is 12\n",
      "Gandalf beats this round!\n",
      "Gandalf's spell force is 30\n",
      "Saruman's spell force is 43\n",
      "Saruman power wins!\n",
      "Gandalf's spell force is 22\n",
      "Saruman's spell force is 12\n",
      "Gandalf beats this round!\n",
      "Gandalf's spell force is 11\n",
      "Saruman's spell force is 10\n",
      "Gandalf beats this round!\n",
      "Gandalf's spell force is 10\n",
      "Saruman's spell force is 44\n",
      "Saruman power wins!\n",
      "Gandalf's spell force is 33\n",
      "Saruman's spell force is 23\n",
      "Gandalf beats this round!\n",
      "Gandalf's spell force is 22\n",
      "Saruman's spell force is 12\n",
      "Gandalf beats this round!\n",
      "Gandalf's spell force is 22\n",
      "Saruman's spell force is 17\n",
      "Gandalf beats this round!\n",
      "Total spells 20\n",
      "Total Gandalf's victories =  6\n",
      "Total Saruman's victories =  4\n"
     ]
    }
   ],
   "source": [
    "# Execution of spell clashes\n",
    "\n",
    "for i in range(0, len(gandalf)):\n",
    "    print(\"Gandalf's spell force is\", gandalf[i])\n",
    "    print(\"Saruman's spell force is\", saruman[i])\n",
    "    spells += 2\n",
    "    if (gandalf[i] > saruman[i]):\n",
    "        gandalf_wins += 1\n",
    "        print(\"Gandalf beats this round!\")\n",
    "    elif (gandalf[i] < saruman[i]):\n",
    "        saruman_wins += 1\n",
    "        print(\"Saruman power wins!\")\n",
    "    \n",
    "    else:\n",
    "        print(\"Tie!\")\n",
    "        \n",
    "\n",
    "    \n",
    "print(\"Total spells\", spells)\n",
    "print(\"Total Gandalf's victories = \", gandalf_wins)\n",
    "print(\"Total Saruman's victories = \", saruman_wins)"
   ]
  },
  {
   "cell_type": "markdown",
   "metadata": {},
   "source": [
    "**Expected output**:\n",
    "```\n",
    "6\n",
    "4\n",
    "```"
   ]
  },
  {
   "cell_type": "code",
   "execution_count": 8,
   "metadata": {},
   "outputs": [
    {
     "name": "stdout",
     "output_type": "stream",
     "text": [
      "Gandalf wins!\n"
     ]
    }
   ],
   "source": [
    "# We check who has won, do not forget the possibility of a draw.\n",
    "# Print the result based on the winner.\n",
    "\n",
    "if gandalf_wins > saruman_wins:\n",
    "    print(\"Gandalf wins!\")\n",
    "elif gandalf_wins < saruman_wins:\n",
    "    print(\"Saruman wins!\")\n",
    "else:\n",
    "    print(\"Tie!!\")"
   ]
  },
  {
   "cell_type": "markdown",
   "metadata": {},
   "source": [
    "**Expected output**:\n",
    "```\n",
    "Gandalf wins\n",
    "```"
   ]
  },
  {
   "cell_type": "markdown",
   "metadata": {},
   "source": [
    "## Goals\n",
    "\n",
    "1. Treatment of lists\n",
    "2. Use of **for loop**\n",
    "3. Use of conditional **if-elif-else**\n",
    "4. Use of the functions **range(), len()**\n",
    "5. print()\n",
    "6. zip()"
   ]
  },
  {
   "cell_type": "markdown",
   "metadata": {},
   "source": [
    "## Bonus\n",
    "\n",
    "1. Spells now have a name and there is a dictionary that relates that name to a power.\n",
    "2. A sorcerer wins if he succeeds in winning 3 spell clashes in a row.\n",
    "3. Average of each of the spell lists.\n",
    "4. Standard deviation of each of the spell lists.\n",
    "\n",
    "```\n",
    "POWER = {\n",
    "    'Fireball': 50, \n",
    "    'Lightning bolt': 40, \n",
    "    'Magic arrow': 10, \n",
    "    'Black Tentacles': 25, \n",
    "    'Contagion': 45\n",
    "}\n",
    "\n",
    "gandalf = ['Fireball', 'Lightning bolt', 'Lightning bolt', 'Magic arrow', 'Fireball', \n",
    "           'Magic arrow', 'Lightning bolt', 'Fireball', 'Fireball', 'Fireball']\n",
    "saruman = ['Contagion', 'Contagion', 'Black Tentacles', 'Fireball', 'Black Tentacles', \n",
    "           'Lightning bolt', 'Magic arrow', 'Contagion', 'Magic arrow', 'Magic arrow']\n",
    "```\n",
    "\n",
    "Good luck!"
   ]
  },
  {
   "cell_type": "code",
   "execution_count": 9,
   "metadata": {},
   "outputs": [],
   "source": [
    "# 1. Spells now have a name and there is a dictionary that relates that name to a power.\n",
    "# variables\n",
    "\n",
    "POWER = {\n",
    "    'Fireball': 50, \n",
    "    'Lightning bolt': 40, \n",
    "    'Magic arrow': 10, \n",
    "    'Black Tentacles': 25, \n",
    "    'Contagion': 45\n",
    "}\n",
    "\n",
    "gandalf = ['Fireball', 'Lightning bolt', 'Lightning bolt', 'Magic arrow', 'Fireball', \n",
    "           'Magic arrow', 'Lightning bolt', 'Fireball', 'Magic arrow', 'Fireball']\n",
    "saruman = ['Contagion', 'Contagion', 'Black Tentacles', 'Fireball', 'Black Tentacles', \n",
    "           'Lightning bolt', 'Magic arrow', 'Contagion', 'Magic arrow', 'Magic arrow']\n"
   ]
  },
  {
   "cell_type": "code",
   "execution_count": 10,
   "metadata": {},
   "outputs": [
    {
     "name": "stdout",
     "output_type": "stream",
     "text": [
      "Gandalf's power [50, 40, 40, 10, 50, 10, 40, 50, 10, 50]\n",
      "Saruman's power [45, 45, 25, 50, 25, 40, 10, 45, 10, 10]\n"
     ]
    }
   ],
   "source": [
    "# Assign spell power lists to variables\n",
    "gandalf_wins = 0\n",
    "saruman_wins = 0\n",
    "\n",
    "gandalf_power = []\n",
    "saruman_power = []\n",
    "\n",
    "for i in gandalf:\n",
    "    for spell, power in POWER.items():\n",
    "        if i == spell:\n",
    "            gandalf_power.append(power)\n",
    "            \n",
    "for i in saruman:\n",
    "    for spell, power in POWER.items():\n",
    "        if i == spell:\n",
    "            saruman_power.append(power)\n",
    "            \n",
    "print(\"Gandalf's power\", str(gandalf_power) + \"\\nSaruman's power\", str(saruman_power))"
   ]
  },
  {
   "cell_type": "markdown",
   "metadata": {},
   "source": [
    "**Expected output**:\n",
    "```\n",
    "([50, 40, 40, 10, 50, 10, 40, 50, 10, 50],\n",
    " [45, 45, 25, 50, 25, 40, 10, 45, 10, 10])\n",
    " ```"
   ]
  },
  {
   "cell_type": "code",
   "execution_count": 12,
   "metadata": {},
   "outputs": [
    {
     "name": "stdout",
     "output_type": "stream",
     "text": [
      "Clash number: 0\n",
      "Gandalf beats this round!\n",
      "Clash number: 1\n",
      "Saruman power wins!\n",
      "Clash number: 2\n",
      "Gandalf beats this round!\n",
      "Clash number: 3\n",
      "Saruman power wins!\n",
      "Clash number: 4\n",
      "Gandalf beats this round!\n",
      "Clash number: 5\n",
      "Saruman power wins!\n",
      "Clash number: 6\n",
      "Gandalf beats this round!\n",
      "Clash number: 7\n",
      "Gandalf beats this round!\n",
      "Clash number: 8\n",
      "Tie!\n",
      "Clash number: 9\n",
      "Gandalf beats this round!\n",
      "Gandalf wins the battle!\n"
     ]
    }
   ],
   "source": [
    "# 2. A sorcerer wins if he succeeds in winning 3 spell clashes in a row.\n",
    "\n",
    "gandalf_wins_in_a_row = 0\n",
    "saruman_wins_in_a_row = 0\n",
    "i = 0\n",
    "\n",
    "while (gandalf_wins_in_a_row < 3) & (saruman_wins_in_a_row < 3):\n",
    "    print(\"Clash number:\", i)\n",
    "    if (gandalf_power[i] > saruman_power[i]):\n",
    "        gandalf_wins_in_a_row += 1\n",
    "        saruman_wins_in_a_row = 0\n",
    "        print(\"Gandalf beats this round!\")\n",
    "    elif (gandalf_power[i] < saruman_power[i]):\n",
    "        saruman_wins_in_a_row += 1\n",
    "        gandalf_wins_in_a_row = 0\n",
    "        print(\"Saruman power wins!\")\n",
    "    \n",
    "    else:\n",
    "        print(\"Tie!\")\n",
    "    i += 1\n",
    "    \n",
    "    \n",
    "if gandalf_wins_in_a_row == 3:\n",
    "    print(\"Gandalf wins the battle!\")\n",
    "elif saruman_wins_in_a_row == 3:\n",
    "    print(\"Saruman wins the battle!\")\n",
    "else:\n",
    "    print(\"Both of them are loosers\")\n"
   ]
  },
  {
   "cell_type": "markdown",
   "metadata": {},
   "source": [
    "**Expected output**:\n",
    "```\n",
    "Gandalf wins\n",
    "```"
   ]
  },
  {
   "cell_type": "code",
   "execution_count": 15,
   "metadata": {},
   "outputs": [
    {
     "name": "stdout",
     "output_type": "stream",
     "text": [
      "Average spell power of Gandalf is: 35.0\n",
      "Average spell power of Saruman is: 30.5\n"
     ]
    }
   ],
   "source": [
    "# 3. Average of each of the spell lists.\n",
    "avg_gandalf_power= sum(gandalf_power)/len(gandalf_power)\n",
    "\n",
    "print(\"Average spell power of Gandalf is: \" + str(avg_gandalf_power))\n",
    "\n",
    "avg_saruman_power= sum(saruman_power)/len(saruman_power)\n",
    "\n",
    "print(\"Average spell power of Saruman is: \" + str(avg_saruman_power))\n"
   ]
  },
  {
   "cell_type": "markdown",
   "metadata": {},
   "source": [
    "**Expected output**:\n",
    "```\n",
    "35.0\n",
    "30.5\n",
    "```"
   ]
  },
  {
   "cell_type": "code",
   "execution_count": 16,
   "metadata": {},
   "outputs": [
    {
     "name": "stdout",
     "output_type": "stream",
     "text": [
      "The standard deviation of Gandalf's power is: 17.795130420052185\n",
      "The standard deviation of Saruman's power is: 16.40629960309962\n"
     ]
    }
   ],
   "source": [
    "# 4. Standard deviation of each of the spell lists.\n",
    "import statistics\n",
    "\n",
    "stdev_gandalf_power= statistics.stdev(gandalf_power)\n",
    "\n",
    "print(\"The standard deviation of Gandalf's power is: \" + str(stdev_gandalf_power))\n",
    "\n",
    "stdev_saruman_power= statistics.stdev(saruman_power)\n",
    "\n",
    "print(\"The standard deviation of Saruman's power is: \" + str(stdev_saruman_power))\n"
   ]
  },
  {
   "cell_type": "markdown",
   "metadata": {},
   "source": [
    "**Expected output**:\n",
    "```\n",
    "16.881943016134134\n",
    "15.56438241627338\n",
    "```"
   ]
  },
  {
   "cell_type": "code",
   "execution_count": null,
   "metadata": {},
   "outputs": [],
   "source": []
  }
 ],
 "metadata": {
  "kernelspec": {
   "display_name": "Python 3",
   "language": "python",
   "name": "python3"
  },
  "language_info": {
   "codemirror_mode": {
    "name": "ipython",
    "version": 3
   },
   "file_extension": ".py",
   "mimetype": "text/x-python",
   "name": "python",
   "nbconvert_exporter": "python",
   "pygments_lexer": "ipython3",
   "version": "3.8.3"
  }
 },
 "nbformat": 4,
 "nbformat_minor": 2
}
